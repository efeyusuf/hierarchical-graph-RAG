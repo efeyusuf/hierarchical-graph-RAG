{
 "cells": [
  {
   "cell_type": "code",
   "execution_count": 12,
   "metadata": {},
   "outputs": [],
   "source": [
    "from datasets import load_dataset, load_dataset_builder"
   ]
  },
  {
   "cell_type": "markdown",
   "metadata": {},
   "source": [
    "### Checking the MultiHop RAG Data Set:"
   ]
  },
  {
   "cell_type": "code",
   "execution_count": 16,
   "metadata": {},
   "outputs": [
    {
     "name": "stdout",
     "output_type": "stream",
     "text": [
      "{'category': Value(dtype='string', id=None), 'author': Value(dtype='string', id=None), 'published_at': Value(dtype='string', id=None), 'body': Value(dtype='string', id=None), 'title': Value(dtype='string', id=None), 'url': Value(dtype='string', id=None), 'source': Value(dtype='string', id=None)}\n",
      "{'evidence_list': [{'author': Value(dtype='string', id=None), 'category': Value(dtype='string', id=None), 'fact': Value(dtype='string', id=None), 'published_at': Value(dtype='string', id=None), 'source': Value(dtype='string', id=None), 'title': Value(dtype='string', id=None), 'url': Value(dtype='string', id=None)}], 'answer': Value(dtype='string', id=None), 'query': Value(dtype='string', id=None), 'question_type': Value(dtype='string', id=None)}\n"
     ]
    }
   ],
   "source": [
    "ds_builder_1 = load_dataset_builder(\"yixuantt/MultiHopRAG\", \"corpus\")\n",
    "ds_builder_2 = load_dataset_builder(\"yixuantt/MultiHopRAG\", \"MultiHopRAG\")\n",
    "\n",
    "print(ds_builder_1.info.features)\n",
    "print(ds_builder_2.info.features)"
   ]
  },
  {
   "cell_type": "code",
   "execution_count": 21,
   "metadata": {},
   "outputs": [],
   "source": [
    "# Load the MultiHopRAG dataset\n",
    "dataset_corpus = load_dataset(\"yixuantt/MultiHopRAG\", 'corpus', split='train')\n",
    "dataset_RAG = load_dataset(\"yixuantt/MultiHopRAG\", 'MultiHopRAG', split='train')"
   ]
  },
  {
   "cell_type": "code",
   "execution_count": 22,
   "metadata": {},
   "outputs": [
    {
     "data": {
      "text/plain": [
       "Dataset({\n",
       "    features: ['category', 'author', 'published_at', 'body', 'title', 'url', 'source'],\n",
       "    num_rows: 609\n",
       "})"
      ]
     },
     "execution_count": 22,
     "metadata": {},
     "output_type": "execute_result"
    }
   ],
   "source": [
    "dataset_corpus"
   ]
  },
  {
   "cell_type": "code",
   "execution_count": null,
   "metadata": {},
   "outputs": [],
   "source": []
  }
 ],
 "metadata": {
  "kernelspec": {
   "display_name": "base",
   "language": "python",
   "name": "python3"
  },
  "language_info": {
   "codemirror_mode": {
    "name": "ipython",
    "version": 3
   },
   "file_extension": ".py",
   "mimetype": "text/x-python",
   "name": "python",
   "nbconvert_exporter": "python",
   "pygments_lexer": "ipython3",
   "version": "3.11.8"
  }
 },
 "nbformat": 4,
 "nbformat_minor": 2
}
